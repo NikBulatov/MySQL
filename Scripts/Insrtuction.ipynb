{
 "cells": [
  {
   "cell_type": "markdown",
   "metadata": {
    "collapsed": true,
    "pycharm": {
     "name": "#%% md\n"
    }
   },
   "source": [
    "# Connector\n",
    "## [Источник](https://pythonpip.ru/examples/operatsiya-vstavki-mysql-na-python-dobavlenie-dannyh-v-tablitsu)\n",
    "## [Справка](https://mysqlclient.readthedocs.io/user_guide.html#mysqldb-mysql)\n",
    "- Создаём подключение с помощью метода Connect. Тут с помощью init_command указываем первое действие,\n",
    "которое надо выполнить после подключения, но для выбора базы - правильнее использовать db=\"databasename\"\n",
    "- Connect return Connection object\n",
    "- Используем менеджер контекста, чтобы отключить соединение, когда все операции выполнятся\n",
    "- Создаём объект Cursor:\n",
    "    - MySQL не поддерживает курсоры; однако курсоры легко эмулируются.\n",
    "  Вы можете указать альтернативный класс курсора в качестве необязательного параметра.\n",
    "  Если этого нет, по умолчанию используется значение, указанное при создании объекта подключения, или стандартный класс курсора.\n",
    "  Также смотрите дополнительные прилагаемые классы курсоров в разделе использование.\n",
    "- `cursor.execute()` - Передаём строку, которая является запросом на языке SQL\n",
    "    - Возвращает целое число, представляющее затронутые строки, если таковые имеются\n",
    "- `cursor.fetchone()`\n",
    "    - возвращает одну строку - результат работы\n",
    "- Запросы можно создавать в отдельной переменной, если они большие и требуют форматирования"
   ]
  },
  {
   "cell_type": "code",
   "execution_count": 12,
   "outputs": [
    {
     "name": "stdout",
     "output_type": "stream",
     "text": [
      "MySQL version: 8.0.27\n",
      "---------------\n",
      "audio\n",
      "chat_users\n",
      "chat_users_message\n",
      "chats\n",
      "communities\n",
      "files\n",
      "friend_requests\n",
      "likes\n",
      "media\n",
      "media_types\n",
      "messages\n",
      "photo_albums\n",
      "photos\n",
      "playlists\n",
      "profiles\n",
      "users\n",
      "users_communities\n",
      "video\n",
      "wallet\n",
      "---------------\n",
      "(('id', 'bigint unsigned', 'NO', 'PRI', None, 'auto_increment'), ('owner_id', 'bigint unsigned', 'NO', 'MUL', None, ''), ('created_at', 'datetime', 'YES', '', 'CURRENT_TIMESTAMP', 'DEFAULT_GENERATED'), ('balance', 'double unsigned', 'YES', '', '0', ''), ('currency', 'varchar(100)', 'NO', '', 'RUB', ''), ('is_deleted', 'bit(1)', 'YES', '', \"b'0'\", ''))\n"
     ]
    }
   ],
   "source": [
    "import MySQLdb\n",
    "import gc\n",
    "with MySQLdb.connect(host='localhost', database='vk', user='root', password=input('Password:\\n')) as connect:\n",
    "    cursor = connect.cursor()  # для ввода запроса в клиент наверное\n",
    "    cursor.execute('select version()')  # String is a SQL query!\n",
    "    data = cursor.fetchone()  # return one string. fetchall - all strings.\n",
    "    print('MySQL version: %s' % data)\n",
    "    print('-' * 15)\n",
    "    cursor.execute('show tables')\n",
    "    tables = cursor.fetchall()\n",
    "    for table in cursor:\n",
    "        print(*table)\n",
    "    print('-' * 15)\n",
    "    cursor.execute('DESCRIBE wallet')\n",
    "    wallet = cursor.fetchall()\n",
    "    print(wallet)"
   ],
   "metadata": {
    "collapsed": false,
    "pycharm": {
     "name": "#%%\n"
    }
   }
  },
  {
   "cell_type": "markdown",
   "source": [
    "## Свойства объекта connect\n",
    "- Используем сборщик мусора и после отключения от БД"
   ],
   "metadata": {
    "collapsed": false,
    "pycharm": {
     "name": "#%% md\n"
    }
   }
  },
  {
   "cell_type": "code",
   "execution_count": 14,
   "outputs": [
    {
     "name": "stdout",
     "output_type": "stream",
     "text": [
      "1\n",
      "3306\n",
      "{<class 'int'>: <function Thing2Str at 0x00000201B6CB6A60>, <class 'float'>: <function Float2Str at 0x00000201B6CB6AF0>, <class 'NoneType'>: <function None2NULL at 0x00000201B6CB6B80>, <class 'array.array'>: <function array2Str at 0x00000201B6CB6D30>, <class 'bool'>: <function Bool2Str at 0x00000201B1E00160>, <class 'datetime.date'>: <function Thing2Literal at 0x00000201B6CB6C10>, <class 'datetime.datetime'>: <function DateTime2literal at 0x00000201B6C4A820>, <class 'datetime.timedelta'>: <function DateTimeDelta2literal at 0x00000201B6C4A8B0>, <class 'set'>: <function Set2Str at 0x00000201B6CB69D0>, <class 'decimal.Decimal'>: <function Decimal2Literal at 0x00000201B6CB6CA0>, 1: <class 'int'>, 2: <class 'int'>, 3: <class 'int'>, 4: <class 'float'>, 5: <class 'float'>, 0: <class 'decimal.Decimal'>, 246: <class 'decimal.Decimal'>, 8: <class 'int'>, 9: <class 'int'>, 13: <class 'int'>, 7: <function DateTime_or_None at 0x00000201B6C4A5E0>, 12: <function DateTime_or_None at 0x00000201B6C4A5E0>, 11: <function TimeDelta_or_None at 0x00000201B6C4A670>, 10: <function Date_or_None at 0x00000201B6C4A790>, 249: ((128, <class 'bytes'>), (None, <class 'str'>)), 250: ((128, <class 'bytes'>), (None, <class 'str'>)), 251: ((128, <class 'bytes'>), (None, <class 'str'>)), 252: ((128, <class 'bytes'>), (None, <class 'str'>)), 254: ((128, <class 'bytes'>), (None, <class 'str'>)), 253: ((128, <class 'bytes'>), (None, <class 'str'>)), 15: ((128, <class 'bytes'>), (None, <class 'str'>)), 245: <class 'str'>}\n",
      "10\n"
     ]
    },
    {
     "data": {
      "text/plain": "0"
     },
     "execution_count": 14,
     "metadata": {},
     "output_type": "execute_result"
    }
   ],
   "source": [
    "database = MySQLdb.connect(host='localhost', database='vk', user='root', password=input('Password:\\n'))\n",
    "print(database.open)  # status of connection\n",
    "print(database.port)  # port of connection\n",
    "print(database.converter)\n",
    "print(database.get_proto_info())  # protocol\n",
    "# help(database)  # documentation\n",
    "database.close()\n",
    "gc.collect()"
   ],
   "metadata": {
    "collapsed": false,
    "pycharm": {
     "name": "#%%\n"
    }
   }
  },
  {
   "cell_type": "markdown",
   "source": [
    "##  Exceptions in MySQLdb\n"
   ],
   "metadata": {
    "collapsed": false
   }
  }
 ],
 "metadata": {
  "kernelspec": {
   "display_name": "Python 3",
   "language": "python",
   "name": "python3"
  },
  "language_info": {
   "codemirror_mode": {
    "name": "ipython",
    "version": 2
   },
   "file_extension": ".py",
   "mimetype": "text/x-python",
   "name": "python",
   "nbconvert_exporter": "python",
   "pygments_lexer": "ipython2",
   "version": "2.7.6"
  }
 },
 "nbformat": 4,
 "nbformat_minor": 0
}