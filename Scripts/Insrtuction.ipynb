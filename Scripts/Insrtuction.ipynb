{
 "cells": [
  {
   "cell_type": "markdown",
   "metadata": {
    "collapsed": true,
    "pycharm": {
     "name": "#%% md\n"
    }
   },
   "source": [
    "# Connector\n",
    "## [Источник](https://pythonpip.ru/examples/operatsiya-vstavki-mysql-na-python-dobavlenie-dannyh-v-tablitsu)\n",
    "## [Справка](https://mysqlclient.readthedocs.io/user_guide.html#mysqldb-mysql)\n",
    "- Создаём подключение с помощью метода Connect. Тут с помощью init_command указываем первое действие, которое надо выполнить после подключения, но для выбора базы - правильнее использовать db=\"databasename\"\n",
    "- Connect return Connection object\n",
    "- Используем менеджер контекста, чтобы отключить соединение, когда все операции выполнятся\n",
    "- Создаём объект Cursor:\n",
    "    - MySQL не поддерживает курсоры; однако курсоры легко эмулируются. Вы можете указать альтернативный класс курсора в качестве необязательного параметра. Если этого нет, по умолчанию используется значение, указанное при создании объекта подключения, или стандартный класс курсора. Также смотрите дополнительные прилагаемые классы курсоров в разделе использование.\n",
    "- `cursor.execute()` - Передаём строку, которая является запросом на языке SQL\n",
    "    - Возвращает целое число, представляющее затронутые строки, если таковые имеются\n",
    "- `cursor.fetchone()`\n",
    "    - возвращает одну строку - результат работы\n",
    "- Запросы можно создавать в отдельной переменной, если они большие и требуют форматирования"
   ]
  },
  {
   "cell_type": "code",
   "execution_count": 7,
   "outputs": [
    {
     "name": "stdout",
     "output_type": "stream",
     "text": [
      "MySQL version: 8.0.27\n"
     ]
    }
   ],
   "source": [
    "from MySQLdb import connect\n",
    "\n",
    "with connect(host='localhost', database='vk', user='root', password=input('Password:\\n')) as connect:\n",
    "    cursor = connect.cursor()  # для ввода запроса в клиент наверное\n",
    "    cursor.execute('select version()')  # String is a SQL query!\n",
    "    data = cursor.fetchone()  # return one string. fetchall - all strings.\n",
    "    print('MySQL version: %s' % data)\n",
    "    print('-' * 15)\n",
    "    cursor.execute('show tables')\n",
    "    tables = cursor.fetchall()\n",
    "    for table in cursor:\n",
    "        print(*table)\n",
    "    print('-' * 15)\n",
    "    cursor.execute('DESCRIBE wallet')\n",
    "    wallet = cursor.fetchall()\n",
    "    print(wallet)"
   ],
   "metadata": {
    "collapsed": false,
    "pycharm": {
     "name": "#%%\n"
    }
   }
  },
  {
   "cell_type": "markdown",
   "source": [
    "### Свойства объекта connect"
   ],
   "metadata": {
    "collapsed": false,
    "pycharm": {
     "name": "#%% md\n"
    }
   }
  },
  {
   "cell_type": "code",
   "execution_count": null,
   "outputs": [],
   "source": [
    "print(connect.open)  # status of connection\n",
    "print(connect.port)  # port of connection\n",
    "print(connect.converter)\n",
    "print(connect.get_proto_info())  # protocol\n",
    "help(connect)  # documentation"
   ],
   "metadata": {
    "collapsed": false,
    "pycharm": {
     "name": "#%%\n"
    }
   }
  }
 ],
 "metadata": {
  "kernelspec": {
   "display_name": "Python 3",
   "language": "python",
   "name": "python3"
  },
  "language_info": {
   "codemirror_mode": {
    "name": "ipython",
    "version": 2
   },
   "file_extension": ".py",
   "mimetype": "text/x-python",
   "name": "python",
   "nbconvert_exporter": "python",
   "pygments_lexer": "ipython2",
   "version": "2.7.6"
  }
 },
 "nbformat": 4,
 "nbformat_minor": 0
}